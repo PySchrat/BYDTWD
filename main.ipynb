{
 "cells": [
  {
   "cell_type": "markdown",
   "id": "17fcc5d1",
   "metadata": {},
   "source": [
    "# Test"
   ]
  },
  {
   "cell_type": "markdown",
   "id": "7f7b6497",
   "metadata": {},
   "source": []
  }
 ],
 "metadata": {
  "language_info": {
   "name": "python"
  }
 },
 "nbformat": 4,
 "nbformat_minor": 5
}
