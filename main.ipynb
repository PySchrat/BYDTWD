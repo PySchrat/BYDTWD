{
 "cells": [
  {
   "cell_type": "markdown",
   "id": "0dd7644f",
   "metadata": {},
   "source": [
    "### 1. Introduction into ColabTurtle"
   ]
  },
  {
   "cell_type": "code",
   "execution_count": null,
   "id": "72def245",
   "metadata": {},
   "outputs": [],
   "source": [
    "!pip install ColabTurtle"
   ]
  },
  {
   "cell_type": "code",
   "execution_count": null,
   "id": "fe1dd932",
   "metadata": {},
   "outputs": [],
   "source": [
    "from ColabTurtle.Turtle import *"
   ]
  },
  {
   "cell_type": "code",
   "execution_count": null,
   "id": "cda252dd",
   "metadata": {},
   "outputs": [],
   "source": [
    "# set up turtle \n",
    "initializeTurtle()\n",
    "# set turtle draw speed 1(slowest) - 13(fastest) \n",
    "speed(3)\n",
    "\n",
    "forward(50) # move 50 units forward\n",
    "right(90) # change position by 90 degrees to the right\n",
    "forward(100)\n",
    "right(90) # change position by 90 degrees to the right\n",
    "forward(150)\n",
    "penup() # stop drawing\n",
    "right(90) # change position by 90 degrees to the right\n",
    "forward(150)\n",
    "pendown() # start drawing again\n",
    "right(90) # change position by 90 degrees to the right\n",
    "forward(200)\n"
   ]
  },
  {
   "cell_type": "markdown",
   "id": "bf9bc2aa",
   "metadata": {},
   "source": [
    "### Get creative!"
   ]
  },
  {
   "cell_type": "code",
   "execution_count": null,
   "id": "d028bf24",
   "metadata": {},
   "outputs": [],
   "source": [
    "# set up turtle \n",
    "initializeTurtle()\n",
    "# set turtle draw speed 1(slowest) - 13(fastest) \n",
    "speed(5)"
   ]
  },
  {
   "cell_type": "code",
   "execution_count": null,
   "id": "22387797",
   "metadata": {},
   "outputs": [],
   "source": []
  }
 ],
 "metadata": {
  "kernelspec": {
   "display_name": "fiqce-data-checks-svc-CVdh9Gum",
   "language": "python",
   "name": "python3"
  },
  "language_info": {
   "codemirror_mode": {
    "name": "ipython",
    "version": 3
   },
   "file_extension": ".py",
   "mimetype": "text/x-python",
   "name": "python",
   "nbconvert_exporter": "python",
   "pygments_lexer": "ipython3",
   "version": "3.10.9"
  }
 },
 "nbformat": 4,
 "nbformat_minor": 5
}
