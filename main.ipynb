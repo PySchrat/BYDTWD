{
 "cells": [
  {
   "cell_type": "markdown",
   "id": "0dd7644f",
   "metadata": {},
   "source": [
    "### 1. Introduction into ColabTurtle"
   ]
  },
  {
   "cell_type": "code",
   "execution_count": null,
   "id": "72def245",
   "metadata": {},
   "outputs": [],
   "source": [
    "!pip install ColabTurtle"
   ]
  },
  {
   "cell_type": "code",
   "execution_count": null,
   "id": "fe1dd932",
   "metadata": {},
   "outputs": [],
   "source": [
    "from ColabTurtle.Turtle import *"
   ]
  },
  {
   "cell_type": "markdown",
   "id": "6148c05f",
   "metadata": {},
   "source": [
    "### Draw a square using basic commands"
   ]
  },
  {
   "cell_type": "code",
   "execution_count": null,
   "id": "cda252dd",
   "metadata": {},
   "outputs": [],
   "source": [
    "# set up turtle \n",
    "initializeTurtle()\n",
    "# set turtle draw speed 1(slowest) - 13(fastest) \n",
    "speed(3)\n",
    "\n",
    "# Draw a square\n",
    "forward(100)  # Move forward by 100 units\n",
    "right(90)  # Turn right by 90 degrees\n",
    "forward(100) \n",
    "right(90)\n",
    "forward(100) \n",
    "right(90)\n",
    "forward(100)"
   ]
  },
  {
   "cell_type": "markdown",
   "id": "bf9bc2aa",
   "metadata": {},
   "source": [
    "### Draw a square using a for loop"
   ]
  },
  {
   "cell_type": "code",
   "execution_count": null,
   "id": "d028bf24",
   "metadata": {},
   "outputs": [],
   "source": [
    "# set up turtle \n",
    "initializeTurtle()\n",
    "# set turtle draw speed 1(slowest) - 13(fastest) \n",
    "speed(5)\n",
    "\n",
    "for i in range(4):\n",
    "    forward(100)\n",
    "    right(90)"
   ]
  },
  {
   "cell_type": "markdown",
   "id": "98cab7b7",
   "metadata": {},
   "source": [
    "### Draw a square with different colors"
   ]
  },
  {
   "cell_type": "code",
   "execution_count": null,
   "id": "22387797",
   "metadata": {},
   "outputs": [],
   "source": [
    "# set up turtle \n",
    "initializeTurtle()\n",
    "# set turtle draw speed 1(slowest) - 13(fastest) \n",
    "speed(5)\n",
    "\n",
    "# add some color to our square!\n",
    "colors = ['red', 'green', 'blue', 'yellow']\n",
    "\n",
    "for col in colors:\n",
    "    color(col)\n",
    "    forward(100)\n",
    "    right(90)\n"
   ]
  },
  {
   "cell_type": "markdown",
   "id": "2dfcc187",
   "metadata": {},
   "source": [
    "### Can you draw a multicolor spiral?"
   ]
  },
  {
   "cell_type": "code",
   "execution_count": null,
   "id": "6dfd58f9",
   "metadata": {},
   "outputs": [],
   "source": [
    "# set up turtle \n",
    "initializeTurtle()\n",
    "# set turtle draw speed 1(slowest) - 13(fastest) \n",
    "speed(5)\n",
    "\n"
   ]
  }
 ],
 "metadata": {
  "kernelspec": {
   "display_name": "fiqce-data-checks-svc-CVdh9Gum",
   "language": "python",
   "name": "python3"
  },
  "language_info": {
   "codemirror_mode": {
    "name": "ipython",
    "version": 3
   },
   "file_extension": ".py",
   "mimetype": "text/x-python",
   "name": "python",
   "nbconvert_exporter": "python",
   "pygments_lexer": "ipython3",
   "version": "3.10.9"
  }
 },
 "nbformat": 4,
 "nbformat_minor": 5
}
